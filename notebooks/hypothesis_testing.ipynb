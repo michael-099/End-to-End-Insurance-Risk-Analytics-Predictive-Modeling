{
 "cells": [
  {
   "cell_type": "code",
   "execution_count": 2,
   "id": "6d9da07a",
   "metadata": {},
   "outputs": [],
   "source": [
    "import pandas as pd"
   ]
  },
  {
   "cell_type": "code",
   "execution_count": 3,
   "id": "c0c735e7",
   "metadata": {},
   "outputs": [
    {
     "name": "stderr",
     "output_type": "stream",
     "text": [
      "C:\\Users\\micha\\AppData\\Local\\Temp\\ipykernel_13180\\4105113106.py:1: DtypeWarning: Columns (37) have mixed types. Specify dtype option on import or set low_memory=False.\n",
      "  df = pd.read_csv(\"../data/MachineLearningRating_v3.csv\", on_bad_lines='skip')\n"
     ]
    }
   ],
   "source": [
    "df = pd.read_csv(\"../data/MachineLearningRating_v3.csv\", on_bad_lines='skip')"
   ]
  },
  {
   "cell_type": "markdown",
   "id": "a575c92f",
   "metadata": {},
   "source": [
    "### 1. Select Metrics\n",
    "We’ll use these metrics to quantify risk and margin:\n",
    "\n",
    "* Claim Frequency = NumClaims > 0 (binary outcome per policy)\n",
    "* Claim Severity = TotalClaims / NumClaims for policies where NumClaims > 0\n",
    "* Margin = TotalPremium - TotalClaims"
   ]
  },
  {
   "cell_type": "code",
   "execution_count": 4,
   "id": "2c7b629c",
   "metadata": {},
   "outputs": [
    {
     "name": "stderr",
     "output_type": "stream",
     "text": [
      "C:\\Users\\micha\\AppData\\Local\\Temp\\ipykernel_13180\\2387926106.py:8: FutureWarning: A value is trying to be set on a copy of a DataFrame or Series through chained assignment using an inplace method.\n",
      "The behavior will change in pandas 3.0. This inplace method will never work because the intermediate object on which we are setting values always behaves as a copy.\n",
      "\n",
      "For example, when doing 'df[col].method(value, inplace=True)', try using 'df.method({col: value}, inplace=True)' or df[col] = df[col].method(value) instead, to perform the operation inplace on the original object.\n",
      "\n",
      "\n",
      "  df['ClaimSeverity'].replace([float('inf'), -float('inf')], 0, inplace=True)\n"
     ]
    }
   ],
   "source": [
    "import pandas as pd\n",
    "\n",
    "# Load data\n",
    "df['HasClaim'] = df['TotalClaims'] > 0\n",
    "df['Margin'] = df['TotalPremium'] - df['TotalClaims']\n",
    "df['NumClaims'] = (df['TotalClaims'] > 0).astype(int)\n",
    "df['ClaimSeverity'] = df['TotalClaims'] / df['NumClaims']\n",
    "df['ClaimSeverity'].replace([float('inf'), -float('inf')], 0, inplace=True)\n"
   ]
  },
  {
   "cell_type": "markdown",
   "id": "1dcb8ce5",
   "metadata": {},
   "source": [
    "### 2. Data Segmentation & Testing Strategy\n",
    "We test the following null hypotheses:"
   ]
  },
  {
   "cell_type": "markdown",
   "id": "482af311",
   "metadata": {},
   "source": [
    "H₀.1: No risk difference across provinces\n",
    "* Metric: Claim Frequency & Severity\n",
    "* Test: ANOVA (more than 2 provinces) or Kruskal-Wallis if not normal"
   ]
  },
  {
   "cell_type": "code",
   "execution_count": 5,
   "id": "16e733a7",
   "metadata": {},
   "outputs": [
    {
     "name": "stdout",
     "output_type": "stream",
     "text": [
      "ANOVA p-value (Claim Frequency across provinces): 1.1584241237552373e-17\n"
     ]
    }
   ],
   "source": [
    "import scipy.stats as stats\n",
    "\n",
    "# Drop missing values and group by province\n",
    "grouped = df.dropna(subset=['Province', 'HasClaim']).groupby('Province')['HasClaim']\n",
    "\n",
    "# Perform ANOVA\n",
    "anova_result = stats.f_oneway(*[group for name, group in grouped])\n",
    "print(\"ANOVA p-value (Claim Frequency across provinces):\", anova_result.pvalue)\n"
   ]
  },
  {
   "cell_type": "markdown",
   "id": "6f2cda4a",
   "metadata": {},
   "source": [
    "H₀.2: No risk difference between zip codes\n",
    "You may need to sample 2 zip codes with large enough records\n",
    "\n",
    "* Metric: Claim Frequency\n",
    "* Test: Chi-square or t-test"
   ]
  },
  {
   "cell_type": "code",
   "execution_count": 7,
   "id": "bf9aef08",
   "metadata": {},
   "outputs": [
    {
     "name": "stdout",
     "output_type": "stream",
     "text": [
      "T-test p-value (Claim Frequency across zip codes): nan\n"
     ]
    }
   ],
   "source": [
    "zips = df['PostalCode'].value_counts().head(2).index.tolist()\n",
    "zip_data = df[df['PostalCode'].isin(zips)]\n",
    "\n",
    "group1 = zip_data[zip_data['PostalCode'] == zips[0]]['HasClaim']\n",
    "group2 = zip_data[zip_data['PostalCode'] == zips[1]]['HasClaim']\n",
    "\n",
    "t_test_result = stats.ttest_ind(group1, group2, equal_var=False)\n",
    "print(\"T-test p-value (Claim Frequency across zip codes):\", t_test_result.pvalue)\n"
   ]
  },
  {
   "cell_type": "markdown",
   "id": "4bdaa85c",
   "metadata": {},
   "source": [
    "H₀.3: No significant margin difference between zip codes\n",
    "* Metric: Margin\n",
    "* Test: T-test"
   ]
  },
  {
   "cell_type": "code",
   "execution_count": 9,
   "id": "b131fd00",
   "metadata": {},
   "outputs": [
    {
     "name": "stdout",
     "output_type": "stream",
     "text": [
      "T-test p-value (Margin across zip codes): 0.25191600620729687\n"
     ]
    }
   ],
   "source": [
    "group1 = zip_data[zip_data['PostalCode'] == zips[0]]['Margin']\n",
    "group2 = zip_data[zip_data['PostalCode'] == zips[1]]['Margin']\n",
    "\n",
    "t_test_margin = stats.ttest_ind(group1, group2, equal_var=False)\n",
    "print(\"T-test p-value (Margin across zip codes):\", t_test_margin.pvalue)\n"
   ]
  },
  {
   "cell_type": "markdown",
   "id": "4663221a",
   "metadata": {},
   "source": [
    "H₀.4: No significant risk difference between Women and Men\n",
    "* Metric: Claim Frequency & Severity\n",
    "* Test: T-test or Chi-square"
   ]
  },
  {
   "cell_type": "code",
   "execution_count": 10,
   "id": "61111ac3",
   "metadata": {},
   "outputs": [
    {
     "name": "stdout",
     "output_type": "stream",
     "text": [
      "T-test p-value (Claim Frequency by Gender): nan\n"
     ]
    }
   ],
   "source": [
    "df['Gender'] = df['Title'].map(lambda x: 'Male' if x in ['Mr'] else 'Female')\n",
    "gender_group = df[df['Gender'].isin(['Male', 'Female'])]\n",
    "\n",
    "male_claims = gender_group[gender_group['Gender'] == 'Male']['HasClaim']\n",
    "female_claims = gender_group[gender_group['Gender'] == 'Female']['HasClaim']\n",
    "\n",
    "t_test_gender = stats.ttest_ind(male_claims, female_claims, equal_var=False)\n",
    "print(\"T-test p-value (Claim Frequency by Gender):\", t_test_gender.pvalue)\n"
   ]
  }
 ],
 "metadata": {
  "kernelspec": {
   "display_name": "Python (Stock_Market_Prediction  )",
   "language": "python",
   "name": "stock_market_prediction"
  },
  "language_info": {
   "codemirror_mode": {
    "name": "ipython",
    "version": 3
   },
   "file_extension": ".py",
   "mimetype": "text/x-python",
   "name": "python",
   "nbconvert_exporter": "python",
   "pygments_lexer": "ipython3",
   "version": "3.12.7"
  }
 },
 "nbformat": 4,
 "nbformat_minor": 5
}
