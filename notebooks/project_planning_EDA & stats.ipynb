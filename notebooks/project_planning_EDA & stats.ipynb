{
 "cells": [
  {
   "cell_type": "code",
   "execution_count": 2,
   "id": "eb7a9fab",
   "metadata": {},
   "outputs": [],
   "source": [
    "import numpy as np\n",
    "import pandas as pd\n",
    "import matplotlib.pyplot as plt\n",
    "import os\n",
    "import sys\n",
    "\n",
    "\n"
   ]
  },
  {
   "cell_type": "code",
   "execution_count": 3,
   "id": "32f6a130",
   "metadata": {},
   "outputs": [
    {
     "name": "stdout",
     "output_type": "stream",
     "text": [
      "File '../data/MachineLearningRating_v3.csv' already exists. No changes made.\n"
     ]
    }
   ],
   "source": [
    "def txt_to_csv(path_to_txt_file, output_file=None):\n",
    "    \n",
    "    if output_file is None:\n",
    "        output_file = path_to_txt_file.replace(\".txt\", \".csv\")\n",
    "\n",
    "    if not os.path.exists(output_file):\n",
    "        with open(path_to_txt_file, \"r\", encoding=\"utf-8\") as infile, open(output_file, \"w\", encoding=\"utf-8\") as outfile:\n",
    "            for line in infile:\n",
    "                line = line.strip()\n",
    "                if line:\n",
    "                    csv_line = line.replace(\"|\", \",\")\n",
    "                    outfile.write(csv_line + \"\\n\")\n",
    "        print(f\"'{output_file}' created successfully.\")\n",
    "    else:\n",
    "        print(f\"File '{output_file}' already exists. No changes made.\")\n",
    "txt_to_csv(\"../data/MachineLearningRating_v3.txt\")"
   ]
  },
  {
   "cell_type": "code",
   "execution_count": 4,
   "id": "fd822613",
   "metadata": {},
   "outputs": [
    {
     "name": "stderr",
     "output_type": "stream",
     "text": [
      "C:\\Users\\micha\\AppData\\Local\\Temp\\ipykernel_5612\\3749116346.py:3: DtypeWarning: Columns (37) have mixed types. Specify dtype option on import or set low_memory=False.\n",
      "  df = pd.read_csv(\"../data/MachineLearningRating_v3.csv\", on_bad_lines='skip')\n"
     ]
    }
   ],
   "source": [
    "import pandas as pd\n",
    "\n",
    "df = pd.read_csv(\"../data/MachineLearningRating_v3.csv\", on_bad_lines='skip')"
   ]
  },
  {
   "cell_type": "code",
   "execution_count": 5,
   "id": "6f6a12a0",
   "metadata": {},
   "outputs": [
    {
     "data": {
      "application/vnd.microsoft.datawrangler.viewer.v0+json": {
       "columns": [
        {
         "name": "index",
         "rawType": "int64",
         "type": "integer"
        },
        {
         "name": "UnderwrittenCoverID",
         "rawType": "int64",
         "type": "integer"
        },
        {
         "name": "PolicyID",
         "rawType": "int64",
         "type": "integer"
        },
        {
         "name": "TransactionMonth",
         "rawType": "object",
         "type": "string"
        },
        {
         "name": "IsVATRegistered",
         "rawType": "bool",
         "type": "boolean"
        },
        {
         "name": "Citizenship",
         "rawType": "object",
         "type": "string"
        },
        {
         "name": "LegalType",
         "rawType": "object",
         "type": "string"
        },
        {
         "name": "Title",
         "rawType": "object",
         "type": "string"
        },
        {
         "name": "Language",
         "rawType": "object",
         "type": "string"
        },
        {
         "name": "Bank",
         "rawType": "object",
         "type": "string"
        },
        {
         "name": "AccountType",
         "rawType": "object",
         "type": "string"
        },
        {
         "name": "MaritalStatus",
         "rawType": "object",
         "type": "string"
        },
        {
         "name": "Gender",
         "rawType": "object",
         "type": "string"
        },
        {
         "name": "Country",
         "rawType": "object",
         "type": "string"
        },
        {
         "name": "Province",
         "rawType": "object",
         "type": "string"
        },
        {
         "name": "PostalCode",
         "rawType": "int64",
         "type": "integer"
        },
        {
         "name": "MainCrestaZone",
         "rawType": "object",
         "type": "string"
        },
        {
         "name": "SubCrestaZone",
         "rawType": "object",
         "type": "string"
        },
        {
         "name": "ItemType",
         "rawType": "object",
         "type": "string"
        },
        {
         "name": "mmcode",
         "rawType": "float64",
         "type": "float"
        },
        {
         "name": "VehicleType",
         "rawType": "object",
         "type": "string"
        },
        {
         "name": "RegistrationYear",
         "rawType": "int64",
         "type": "integer"
        },
        {
         "name": "make",
         "rawType": "object",
         "type": "string"
        },
        {
         "name": "Model",
         "rawType": "object",
         "type": "string"
        },
        {
         "name": "Cylinders",
         "rawType": "float64",
         "type": "float"
        },
        {
         "name": "cubiccapacity",
         "rawType": "float64",
         "type": "float"
        },
        {
         "name": "kilowatts",
         "rawType": "float64",
         "type": "float"
        },
        {
         "name": "bodytype",
         "rawType": "object",
         "type": "string"
        },
        {
         "name": "NumberOfDoors",
         "rawType": "float64",
         "type": "float"
        },
        {
         "name": "VehicleIntroDate",
         "rawType": "object",
         "type": "string"
        },
        {
         "name": "CustomValueEstimate",
         "rawType": "float64",
         "type": "float"
        },
        {
         "name": "AlarmImmobiliser",
         "rawType": "object",
         "type": "string"
        },
        {
         "name": "TrackingDevice",
         "rawType": "object",
         "type": "string"
        },
        {
         "name": "CapitalOutstanding",
         "rawType": "float64",
         "type": "float"
        },
        {
         "name": "NewVehicle",
         "rawType": "object",
         "type": "string"
        },
        {
         "name": "WrittenOff",
         "rawType": "object",
         "type": "unknown"
        },
        {
         "name": "Rebuilt",
         "rawType": "object",
         "type": "unknown"
        },
        {
         "name": "Converted",
         "rawType": "object",
         "type": "unknown"
        },
        {
         "name": "CrossBorder",
         "rawType": "object",
         "type": "unknown"
        },
        {
         "name": "NumberOfVehiclesInFleet",
         "rawType": "float64",
         "type": "float"
        },
        {
         "name": "SumInsured",
         "rawType": "float64",
         "type": "float"
        },
        {
         "name": "TermFrequency",
         "rawType": "object",
         "type": "string"
        },
        {
         "name": "CalculatedPremiumPerTerm",
         "rawType": "float64",
         "type": "float"
        },
        {
         "name": "ExcessSelected",
         "rawType": "object",
         "type": "string"
        },
        {
         "name": "CoverCategory",
         "rawType": "object",
         "type": "string"
        },
        {
         "name": "CoverType",
         "rawType": "object",
         "type": "string"
        },
        {
         "name": "CoverGroup",
         "rawType": "object",
         "type": "string"
        },
        {
         "name": "Section",
         "rawType": "object",
         "type": "string"
        },
        {
         "name": "Product",
         "rawType": "object",
         "type": "string"
        },
        {
         "name": "StatutoryClass",
         "rawType": "object",
         "type": "string"
        },
        {
         "name": "StatutoryRiskType",
         "rawType": "object",
         "type": "string"
        },
        {
         "name": "TotalPremium",
         "rawType": "float64",
         "type": "float"
        },
        {
         "name": "TotalClaims",
         "rawType": "float64",
         "type": "float"
        }
       ],
       "ref": "98bf05dc-bbd2-4d3c-b695-75d804af565a",
       "rows": [
        [
         "0",
         "145249",
         "12827",
         "2015-03-01 00:00:00",
         "True",
         "  ",
         "Close Corporation",
         "Mr",
         "English",
         "First National Bank",
         "Current account",
         "Not specified",
         "Not specified",
         "South Africa",
         "Gauteng",
         "1459",
         "Rand East",
         "Rand East",
         "Mobility - Motor",
         "44069150.0",
         "Passenger Vehicle",
         "2004",
         "MERCEDES-BENZ",
         "E 240",
         "6.0",
         "2597.0",
         "130.0",
         "S/D",
         "4.0",
         "6/2002",
         "119300.0",
         "Yes",
         "No",
         "119300.0",
         "More than 6 months",
         null,
         null,
         null,
         null,
         null,
         "0.01",
         "Monthly",
         "25.0",
         "Mobility - Windscreen",
         "Windscreen",
         "Windscreen",
         "Comprehensive - Taxi",
         "Motor Comprehensive",
         "Mobility Metered Taxis: Monthly",
         "Commercial",
         "IFRS Constant",
         "21.929824561403",
         "0.0"
        ],
        [
         "1",
         "145249",
         "12827",
         "2015-05-01 00:00:00",
         "True",
         "  ",
         "Close Corporation",
         "Mr",
         "English",
         "First National Bank",
         "Current account",
         "Not specified",
         "Not specified",
         "South Africa",
         "Gauteng",
         "1459",
         "Rand East",
         "Rand East",
         "Mobility - Motor",
         "44069150.0",
         "Passenger Vehicle",
         "2004",
         "MERCEDES-BENZ",
         "E 240",
         "6.0",
         "2597.0",
         "130.0",
         "S/D",
         "4.0",
         "6/2002",
         "119300.0",
         "Yes",
         "No",
         "119300.0",
         "More than 6 months",
         null,
         null,
         null,
         null,
         null,
         "0.01",
         "Monthly",
         "25.0",
         "Mobility - Windscreen",
         "Windscreen",
         "Windscreen",
         "Comprehensive - Taxi",
         "Motor Comprehensive",
         "Mobility Metered Taxis: Monthly",
         "Commercial",
         "IFRS Constant",
         "21.929824561403",
         "0.0"
        ],
        [
         "2",
         "145249",
         "12827",
         "2015-07-01 00:00:00",
         "True",
         "  ",
         "Close Corporation",
         "Mr",
         "English",
         "First National Bank",
         "Current account",
         "Not specified",
         "Not specified",
         "South Africa",
         "Gauteng",
         "1459",
         "Rand East",
         "Rand East",
         "Mobility - Motor",
         "44069150.0",
         "Passenger Vehicle",
         "2004",
         "MERCEDES-BENZ",
         "E 240",
         "6.0",
         "2597.0",
         "130.0",
         "S/D",
         "4.0",
         "6/2002",
         "119300.0",
         "Yes",
         "No",
         "119300.0",
         "More than 6 months",
         null,
         null,
         null,
         null,
         null,
         "0.01",
         "Monthly",
         "25.0",
         "Mobility - Windscreen",
         "Windscreen",
         "Windscreen",
         "Comprehensive - Taxi",
         "Motor Comprehensive",
         "Mobility Metered Taxis: Monthly",
         "Commercial",
         "IFRS Constant",
         "0.0",
         "0.0"
        ],
        [
         "3",
         "145255",
         "12827",
         "2015-05-01 00:00:00",
         "True",
         "  ",
         "Close Corporation",
         "Mr",
         "English",
         "First National Bank",
         "Current account",
         "Not specified",
         "Not specified",
         "South Africa",
         "Gauteng",
         "1459",
         "Rand East",
         "Rand East",
         "Mobility - Motor",
         "44069150.0",
         "Passenger Vehicle",
         "2004",
         "MERCEDES-BENZ",
         "E 240",
         "6.0",
         "2597.0",
         "130.0",
         "S/D",
         "4.0",
         "6/2002",
         "119300.0",
         "Yes",
         "No",
         "119300.0",
         "More than 6 months",
         null,
         null,
         null,
         null,
         null,
         "119300.0",
         "Monthly",
         "584.6468",
         "Mobility - Metered Taxis - R2000",
         "Own damage",
         "Own Damage",
         "Comprehensive - Taxi",
         "Motor Comprehensive",
         "Mobility Metered Taxis: Monthly",
         "Commercial",
         "IFRS Constant",
         "512.848070175439",
         "0.0"
        ],
        [
         "4",
         "145255",
         "12827",
         "2015-07-01 00:00:00",
         "True",
         "  ",
         "Close Corporation",
         "Mr",
         "English",
         "First National Bank",
         "Current account",
         "Not specified",
         "Not specified",
         "South Africa",
         "Gauteng",
         "1459",
         "Rand East",
         "Rand East",
         "Mobility - Motor",
         "44069150.0",
         "Passenger Vehicle",
         "2004",
         "MERCEDES-BENZ",
         "E 240",
         "6.0",
         "2597.0",
         "130.0",
         "S/D",
         "4.0",
         "6/2002",
         "119300.0",
         "Yes",
         "No",
         "119300.0",
         "More than 6 months",
         null,
         null,
         null,
         null,
         null,
         "119300.0",
         "Monthly",
         "584.6468",
         "Mobility - Metered Taxis - R2000",
         "Own damage",
         "Own Damage",
         "Comprehensive - Taxi",
         "Motor Comprehensive",
         "Mobility Metered Taxis: Monthly",
         "Commercial",
         "IFRS Constant",
         "0.0",
         "0.0"
        ]
       ],
       "shape": {
        "columns": 52,
        "rows": 5
       }
      },
      "text/html": [
       "<div>\n",
       "<style scoped>\n",
       "    .dataframe tbody tr th:only-of-type {\n",
       "        vertical-align: middle;\n",
       "    }\n",
       "\n",
       "    .dataframe tbody tr th {\n",
       "        vertical-align: top;\n",
       "    }\n",
       "\n",
       "    .dataframe thead th {\n",
       "        text-align: right;\n",
       "    }\n",
       "</style>\n",
       "<table border=\"1\" class=\"dataframe\">\n",
       "  <thead>\n",
       "    <tr style=\"text-align: right;\">\n",
       "      <th></th>\n",
       "      <th>UnderwrittenCoverID</th>\n",
       "      <th>PolicyID</th>\n",
       "      <th>TransactionMonth</th>\n",
       "      <th>IsVATRegistered</th>\n",
       "      <th>Citizenship</th>\n",
       "      <th>LegalType</th>\n",
       "      <th>Title</th>\n",
       "      <th>Language</th>\n",
       "      <th>Bank</th>\n",
       "      <th>AccountType</th>\n",
       "      <th>...</th>\n",
       "      <th>ExcessSelected</th>\n",
       "      <th>CoverCategory</th>\n",
       "      <th>CoverType</th>\n",
       "      <th>CoverGroup</th>\n",
       "      <th>Section</th>\n",
       "      <th>Product</th>\n",
       "      <th>StatutoryClass</th>\n",
       "      <th>StatutoryRiskType</th>\n",
       "      <th>TotalPremium</th>\n",
       "      <th>TotalClaims</th>\n",
       "    </tr>\n",
       "  </thead>\n",
       "  <tbody>\n",
       "    <tr>\n",
       "      <th>0</th>\n",
       "      <td>145249</td>\n",
       "      <td>12827</td>\n",
       "      <td>2015-03-01 00:00:00</td>\n",
       "      <td>True</td>\n",
       "      <td></td>\n",
       "      <td>Close Corporation</td>\n",
       "      <td>Mr</td>\n",
       "      <td>English</td>\n",
       "      <td>First National Bank</td>\n",
       "      <td>Current account</td>\n",
       "      <td>...</td>\n",
       "      <td>Mobility - Windscreen</td>\n",
       "      <td>Windscreen</td>\n",
       "      <td>Windscreen</td>\n",
       "      <td>Comprehensive - Taxi</td>\n",
       "      <td>Motor Comprehensive</td>\n",
       "      <td>Mobility Metered Taxis: Monthly</td>\n",
       "      <td>Commercial</td>\n",
       "      <td>IFRS Constant</td>\n",
       "      <td>21.929825</td>\n",
       "      <td>0.0</td>\n",
       "    </tr>\n",
       "    <tr>\n",
       "      <th>1</th>\n",
       "      <td>145249</td>\n",
       "      <td>12827</td>\n",
       "      <td>2015-05-01 00:00:00</td>\n",
       "      <td>True</td>\n",
       "      <td></td>\n",
       "      <td>Close Corporation</td>\n",
       "      <td>Mr</td>\n",
       "      <td>English</td>\n",
       "      <td>First National Bank</td>\n",
       "      <td>Current account</td>\n",
       "      <td>...</td>\n",
       "      <td>Mobility - Windscreen</td>\n",
       "      <td>Windscreen</td>\n",
       "      <td>Windscreen</td>\n",
       "      <td>Comprehensive - Taxi</td>\n",
       "      <td>Motor Comprehensive</td>\n",
       "      <td>Mobility Metered Taxis: Monthly</td>\n",
       "      <td>Commercial</td>\n",
       "      <td>IFRS Constant</td>\n",
       "      <td>21.929825</td>\n",
       "      <td>0.0</td>\n",
       "    </tr>\n",
       "    <tr>\n",
       "      <th>2</th>\n",
       "      <td>145249</td>\n",
       "      <td>12827</td>\n",
       "      <td>2015-07-01 00:00:00</td>\n",
       "      <td>True</td>\n",
       "      <td></td>\n",
       "      <td>Close Corporation</td>\n",
       "      <td>Mr</td>\n",
       "      <td>English</td>\n",
       "      <td>First National Bank</td>\n",
       "      <td>Current account</td>\n",
       "      <td>...</td>\n",
       "      <td>Mobility - Windscreen</td>\n",
       "      <td>Windscreen</td>\n",
       "      <td>Windscreen</td>\n",
       "      <td>Comprehensive - Taxi</td>\n",
       "      <td>Motor Comprehensive</td>\n",
       "      <td>Mobility Metered Taxis: Monthly</td>\n",
       "      <td>Commercial</td>\n",
       "      <td>IFRS Constant</td>\n",
       "      <td>0.000000</td>\n",
       "      <td>0.0</td>\n",
       "    </tr>\n",
       "    <tr>\n",
       "      <th>3</th>\n",
       "      <td>145255</td>\n",
       "      <td>12827</td>\n",
       "      <td>2015-05-01 00:00:00</td>\n",
       "      <td>True</td>\n",
       "      <td></td>\n",
       "      <td>Close Corporation</td>\n",
       "      <td>Mr</td>\n",
       "      <td>English</td>\n",
       "      <td>First National Bank</td>\n",
       "      <td>Current account</td>\n",
       "      <td>...</td>\n",
       "      <td>Mobility - Metered Taxis - R2000</td>\n",
       "      <td>Own damage</td>\n",
       "      <td>Own Damage</td>\n",
       "      <td>Comprehensive - Taxi</td>\n",
       "      <td>Motor Comprehensive</td>\n",
       "      <td>Mobility Metered Taxis: Monthly</td>\n",
       "      <td>Commercial</td>\n",
       "      <td>IFRS Constant</td>\n",
       "      <td>512.848070</td>\n",
       "      <td>0.0</td>\n",
       "    </tr>\n",
       "    <tr>\n",
       "      <th>4</th>\n",
       "      <td>145255</td>\n",
       "      <td>12827</td>\n",
       "      <td>2015-07-01 00:00:00</td>\n",
       "      <td>True</td>\n",
       "      <td></td>\n",
       "      <td>Close Corporation</td>\n",
       "      <td>Mr</td>\n",
       "      <td>English</td>\n",
       "      <td>First National Bank</td>\n",
       "      <td>Current account</td>\n",
       "      <td>...</td>\n",
       "      <td>Mobility - Metered Taxis - R2000</td>\n",
       "      <td>Own damage</td>\n",
       "      <td>Own Damage</td>\n",
       "      <td>Comprehensive - Taxi</td>\n",
       "      <td>Motor Comprehensive</td>\n",
       "      <td>Mobility Metered Taxis: Monthly</td>\n",
       "      <td>Commercial</td>\n",
       "      <td>IFRS Constant</td>\n",
       "      <td>0.000000</td>\n",
       "      <td>0.0</td>\n",
       "    </tr>\n",
       "  </tbody>\n",
       "</table>\n",
       "<p>5 rows × 52 columns</p>\n",
       "</div>"
      ],
      "text/plain": [
       "   UnderwrittenCoverID  PolicyID     TransactionMonth  IsVATRegistered  \\\n",
       "0               145249     12827  2015-03-01 00:00:00             True   \n",
       "1               145249     12827  2015-05-01 00:00:00             True   \n",
       "2               145249     12827  2015-07-01 00:00:00             True   \n",
       "3               145255     12827  2015-05-01 00:00:00             True   \n",
       "4               145255     12827  2015-07-01 00:00:00             True   \n",
       "\n",
       "  Citizenship          LegalType Title Language                 Bank  \\\n",
       "0              Close Corporation    Mr  English  First National Bank   \n",
       "1              Close Corporation    Mr  English  First National Bank   \n",
       "2              Close Corporation    Mr  English  First National Bank   \n",
       "3              Close Corporation    Mr  English  First National Bank   \n",
       "4              Close Corporation    Mr  English  First National Bank   \n",
       "\n",
       "       AccountType  ...                    ExcessSelected CoverCategory  \\\n",
       "0  Current account  ...             Mobility - Windscreen    Windscreen   \n",
       "1  Current account  ...             Mobility - Windscreen    Windscreen   \n",
       "2  Current account  ...             Mobility - Windscreen    Windscreen   \n",
       "3  Current account  ...  Mobility - Metered Taxis - R2000    Own damage   \n",
       "4  Current account  ...  Mobility - Metered Taxis - R2000    Own damage   \n",
       "\n",
       "    CoverType            CoverGroup              Section  \\\n",
       "0  Windscreen  Comprehensive - Taxi  Motor Comprehensive   \n",
       "1  Windscreen  Comprehensive - Taxi  Motor Comprehensive   \n",
       "2  Windscreen  Comprehensive - Taxi  Motor Comprehensive   \n",
       "3  Own Damage  Comprehensive - Taxi  Motor Comprehensive   \n",
       "4  Own Damage  Comprehensive - Taxi  Motor Comprehensive   \n",
       "\n",
       "                           Product StatutoryClass StatutoryRiskType  \\\n",
       "0  Mobility Metered Taxis: Monthly     Commercial     IFRS Constant   \n",
       "1  Mobility Metered Taxis: Monthly     Commercial     IFRS Constant   \n",
       "2  Mobility Metered Taxis: Monthly     Commercial     IFRS Constant   \n",
       "3  Mobility Metered Taxis: Monthly     Commercial     IFRS Constant   \n",
       "4  Mobility Metered Taxis: Monthly     Commercial     IFRS Constant   \n",
       "\n",
       "   TotalPremium TotalClaims  \n",
       "0     21.929825         0.0  \n",
       "1     21.929825         0.0  \n",
       "2      0.000000         0.0  \n",
       "3    512.848070         0.0  \n",
       "4      0.000000         0.0  \n",
       "\n",
       "[5 rows x 52 columns]"
      ]
     },
     "execution_count": 5,
     "metadata": {},
     "output_type": "execute_result"
    }
   ],
   "source": [
    "df.head()"
   ]
  },
  {
   "cell_type": "code",
   "execution_count": 6,
   "id": "56856409",
   "metadata": {},
   "outputs": [
    {
     "data": {
      "application/vnd.microsoft.datawrangler.viewer.v0+json": {
       "columns": [
        {
         "name": "index",
         "rawType": "int64",
         "type": "integer"
        },
        {
         "name": "UnderwrittenCoverID",
         "rawType": "int64",
         "type": "integer"
        },
        {
         "name": "PolicyID",
         "rawType": "int64",
         "type": "integer"
        },
        {
         "name": "TransactionMonth",
         "rawType": "object",
         "type": "string"
        },
        {
         "name": "IsVATRegistered",
         "rawType": "bool",
         "type": "boolean"
        },
        {
         "name": "Citizenship",
         "rawType": "object",
         "type": "string"
        },
        {
         "name": "LegalType",
         "rawType": "object",
         "type": "string"
        },
        {
         "name": "Title",
         "rawType": "object",
         "type": "string"
        },
        {
         "name": "Language",
         "rawType": "object",
         "type": "string"
        },
        {
         "name": "Bank",
         "rawType": "object",
         "type": "string"
        },
        {
         "name": "AccountType",
         "rawType": "object",
         "type": "string"
        },
        {
         "name": "MaritalStatus",
         "rawType": "object",
         "type": "string"
        },
        {
         "name": "Gender",
         "rawType": "object",
         "type": "string"
        },
        {
         "name": "Country",
         "rawType": "object",
         "type": "string"
        },
        {
         "name": "Province",
         "rawType": "object",
         "type": "string"
        },
        {
         "name": "PostalCode",
         "rawType": "int64",
         "type": "integer"
        },
        {
         "name": "MainCrestaZone",
         "rawType": "object",
         "type": "string"
        },
        {
         "name": "SubCrestaZone",
         "rawType": "object",
         "type": "string"
        },
        {
         "name": "ItemType",
         "rawType": "object",
         "type": "string"
        },
        {
         "name": "mmcode",
         "rawType": "float64",
         "type": "float"
        },
        {
         "name": "VehicleType",
         "rawType": "object",
         "type": "string"
        },
        {
         "name": "RegistrationYear",
         "rawType": "int64",
         "type": "integer"
        },
        {
         "name": "make",
         "rawType": "object",
         "type": "string"
        },
        {
         "name": "Model",
         "rawType": "object",
         "type": "string"
        },
        {
         "name": "Cylinders",
         "rawType": "float64",
         "type": "float"
        },
        {
         "name": "cubiccapacity",
         "rawType": "float64",
         "type": "float"
        },
        {
         "name": "kilowatts",
         "rawType": "float64",
         "type": "float"
        },
        {
         "name": "bodytype",
         "rawType": "object",
         "type": "string"
        },
        {
         "name": "NumberOfDoors",
         "rawType": "float64",
         "type": "float"
        },
        {
         "name": "VehicleIntroDate",
         "rawType": "object",
         "type": "string"
        },
        {
         "name": "CustomValueEstimate",
         "rawType": "float64",
         "type": "float"
        },
        {
         "name": "AlarmImmobiliser",
         "rawType": "object",
         "type": "string"
        },
        {
         "name": "TrackingDevice",
         "rawType": "object",
         "type": "string"
        },
        {
         "name": "CapitalOutstanding",
         "rawType": "float64",
         "type": "float"
        },
        {
         "name": "NewVehicle",
         "rawType": "object",
         "type": "string"
        },
        {
         "name": "WrittenOff",
         "rawType": "object",
         "type": "string"
        },
        {
         "name": "Rebuilt",
         "rawType": "object",
         "type": "string"
        },
        {
         "name": "Converted",
         "rawType": "object",
         "type": "string"
        },
        {
         "name": "CrossBorder",
         "rawType": "object",
         "type": "unknown"
        },
        {
         "name": "NumberOfVehiclesInFleet",
         "rawType": "float64",
         "type": "float"
        },
        {
         "name": "SumInsured",
         "rawType": "float64",
         "type": "float"
        },
        {
         "name": "TermFrequency",
         "rawType": "object",
         "type": "string"
        },
        {
         "name": "CalculatedPremiumPerTerm",
         "rawType": "float64",
         "type": "float"
        },
        {
         "name": "ExcessSelected",
         "rawType": "object",
         "type": "string"
        },
        {
         "name": "CoverCategory",
         "rawType": "object",
         "type": "string"
        },
        {
         "name": "CoverType",
         "rawType": "object",
         "type": "string"
        },
        {
         "name": "CoverGroup",
         "rawType": "object",
         "type": "string"
        },
        {
         "name": "Section",
         "rawType": "object",
         "type": "string"
        },
        {
         "name": "Product",
         "rawType": "object",
         "type": "string"
        },
        {
         "name": "StatutoryClass",
         "rawType": "object",
         "type": "string"
        },
        {
         "name": "StatutoryRiskType",
         "rawType": "object",
         "type": "string"
        },
        {
         "name": "TotalPremium",
         "rawType": "float64",
         "type": "float"
        },
        {
         "name": "TotalClaims",
         "rawType": "float64",
         "type": "float"
        }
       ],
       "ref": "8793e481-da10-4cf9-8a84-29d6921dd897",
       "rows": [
        [
         "973377",
         "31520",
         "389",
         "2015-04-01 00:00:00",
         "False",
         "ZW",
         "Individual",
         "Mr",
         "English",
         "ABSA Bank",
         "Savings account",
         "Single",
         "Male",
         "South Africa",
         "Western Cape",
         "7493",
         "Karoo 1 (Northeast of Cape Town)",
         "Northeast of CT",
         "Mobility - Motor",
         "4614100.0",
         "Passenger Vehicle",
         "2013",
         "B.A.W",
         "SASUKA 2.7i (16 SEAT)",
         "4.0",
         "2693.0",
         "110.0",
         "B/S",
         "4.0",
         "2013/01/01 12:00:00 AM",
         null,
         "Yes",
         "No",
         "0.0",
         "More than 6 months",
         "No",
         "No",
         "No",
         null,
         null,
         "500000.0",
         "Monthly",
         "395.8481",
         "No excess",
         "Third Party",
         "Third Party",
         "Comprehensive - Taxi",
         "Motor Comprehensive",
         "Mobility Commercial Cover: Monthly",
         "Commercial",
         "IFRS Constant",
         "347.235175438596",
         "0.0"
        ],
        [
         "973378",
         "31520",
         "389",
         "2015-06-01 00:00:00",
         "False",
         "ZW",
         "Individual",
         "Mr",
         "English",
         "ABSA Bank",
         "Savings account",
         "Single",
         "Male",
         "South Africa",
         "Western Cape",
         "7493",
         "Karoo 1 (Northeast of Cape Town)",
         "Northeast of CT",
         "Mobility - Motor",
         "4614100.0",
         "Passenger Vehicle",
         "2013",
         "B.A.W",
         "SASUKA 2.7i (16 SEAT)",
         "4.0",
         "2693.0",
         "110.0",
         "B/S",
         "4.0",
         "2013/01/01 12:00:00 AM",
         null,
         "Yes",
         "No",
         "0.0",
         "More than 6 months",
         "No",
         "No",
         "No",
         null,
         null,
         "500000.0",
         "Monthly",
         "395.8481",
         "No excess",
         "Third Party",
         "Third Party",
         "Comprehensive - Taxi",
         "Motor Comprehensive",
         "Mobility Commercial Cover: Monthly",
         "Commercial",
         "IFRS Constant",
         "347.235175438596",
         "0.0"
        ],
        [
         "973379",
         "31520",
         "389",
         "2015-08-01 00:00:00",
         "False",
         "ZW",
         "Individual",
         "Mr",
         "English",
         "ABSA Bank",
         "Savings account",
         "Single",
         "Male",
         "South Africa",
         "Western Cape",
         "7493",
         "Karoo 1 (Northeast of Cape Town)",
         "Northeast of CT",
         "Mobility - Motor",
         "4614100.0",
         "Passenger Vehicle",
         "2013",
         "B.A.W",
         "SASUKA 2.7i (16 SEAT)",
         "4.0",
         "2693.0",
         "110.0",
         "B/S",
         "4.0",
         "2013/01/01 12:00:00 AM",
         null,
         "Yes",
         "No",
         "0.0",
         "More than 6 months",
         "No",
         "No",
         "No",
         null,
         null,
         "500000.0",
         "Monthly",
         "395.8481",
         "No excess",
         "Third Party",
         "Third Party",
         "Comprehensive - Taxi",
         "Motor Comprehensive",
         "Mobility Commercial Cover: Monthly",
         "Commercial",
         "IFRS Constant",
         "347.235175438596",
         "0.0"
        ],
        [
         "973380",
         "31519",
         "389",
         "2014-07-01 00:00:00",
         "False",
         "ZW",
         "Individual",
         "Mr",
         "English",
         "ABSA Bank",
         "Savings account",
         "Single",
         "Male",
         "South Africa",
         "Western Cape",
         "7493",
         "Karoo 1 (Northeast of Cape Town)",
         "Northeast of CT",
         "Mobility - Motor",
         "4614100.0",
         "Passenger Vehicle",
         "2013",
         "B.A.W",
         "SASUKA 2.7i (16 SEAT)",
         "4.0",
         "2693.0",
         "110.0",
         "B/S",
         "4.0",
         "2013/01/01 12:00:00 AM",
         null,
         "Yes",
         "No",
         "0.0",
         "More than 6 months",
         "No",
         "No",
         "No",
         null,
         null,
         "5000000.0",
         "Monthly",
         "2.6391",
         "No excess",
         "Passenger Liability",
         "Passenger Liability",
         "Comprehensive - Taxi",
         "Motor Comprehensive",
         "Mobility Commercial Cover: Monthly",
         "Commercial",
         "IFRS Constant",
         "2.315",
         "0.0"
        ],
        [
         "973381",
         "31519",
         "389",
         "2015-02-01 00:00:00",
         "False",
         "ZW",
         "Individual",
         "Mr",
         "English",
         "ABSA Bank",
         "Savings account",
         "Single",
         "Male",
         "South Africa",
         "Western Cape",
         "7493",
         "Karoo 1 (Northeast of Cape Town)",
         "Northeast of CT",
         "Mobility - Motor",
         "4614100.0",
         "Passenger Vehicle",
         "2013",
         "B.A.W",
         "SASUKA 2.7i (16 SEAT)",
         "4.0",
         "2693.0",
         "110.0",
         "B/S",
         "4.0",
         "2013/01/01 12:00:00 AM",
         null,
         "Yes",
         "No",
         "0.0",
         "More than 6 months",
         "No",
         "No",
         "No",
         null,
         null,
         "5000000.0",
         "Monthly",
         "2.6391",
         "No excess",
         "Passenger Liability",
         "Passenger Liability",
         "Comprehensive - Taxi",
         "Motor Comprehensive",
         "Mobility Commercial Cover: Monthly",
         "Commercial",
         "IFRS Constant",
         "2.315",
         "0.0"
        ]
       ],
       "shape": {
        "columns": 52,
        "rows": 5
       }
      },
      "text/html": [
       "<div>\n",
       "<style scoped>\n",
       "    .dataframe tbody tr th:only-of-type {\n",
       "        vertical-align: middle;\n",
       "    }\n",
       "\n",
       "    .dataframe tbody tr th {\n",
       "        vertical-align: top;\n",
       "    }\n",
       "\n",
       "    .dataframe thead th {\n",
       "        text-align: right;\n",
       "    }\n",
       "</style>\n",
       "<table border=\"1\" class=\"dataframe\">\n",
       "  <thead>\n",
       "    <tr style=\"text-align: right;\">\n",
       "      <th></th>\n",
       "      <th>UnderwrittenCoverID</th>\n",
       "      <th>PolicyID</th>\n",
       "      <th>TransactionMonth</th>\n",
       "      <th>IsVATRegistered</th>\n",
       "      <th>Citizenship</th>\n",
       "      <th>LegalType</th>\n",
       "      <th>Title</th>\n",
       "      <th>Language</th>\n",
       "      <th>Bank</th>\n",
       "      <th>AccountType</th>\n",
       "      <th>...</th>\n",
       "      <th>ExcessSelected</th>\n",
       "      <th>CoverCategory</th>\n",
       "      <th>CoverType</th>\n",
       "      <th>CoverGroup</th>\n",
       "      <th>Section</th>\n",
       "      <th>Product</th>\n",
       "      <th>StatutoryClass</th>\n",
       "      <th>StatutoryRiskType</th>\n",
       "      <th>TotalPremium</th>\n",
       "      <th>TotalClaims</th>\n",
       "    </tr>\n",
       "  </thead>\n",
       "  <tbody>\n",
       "    <tr>\n",
       "      <th>973377</th>\n",
       "      <td>31520</td>\n",
       "      <td>389</td>\n",
       "      <td>2015-04-01 00:00:00</td>\n",
       "      <td>False</td>\n",
       "      <td>ZW</td>\n",
       "      <td>Individual</td>\n",
       "      <td>Mr</td>\n",
       "      <td>English</td>\n",
       "      <td>ABSA Bank</td>\n",
       "      <td>Savings account</td>\n",
       "      <td>...</td>\n",
       "      <td>No excess</td>\n",
       "      <td>Third Party</td>\n",
       "      <td>Third Party</td>\n",
       "      <td>Comprehensive - Taxi</td>\n",
       "      <td>Motor Comprehensive</td>\n",
       "      <td>Mobility Commercial Cover: Monthly</td>\n",
       "      <td>Commercial</td>\n",
       "      <td>IFRS Constant</td>\n",
       "      <td>347.235175</td>\n",
       "      <td>0.0</td>\n",
       "    </tr>\n",
       "    <tr>\n",
       "      <th>973378</th>\n",
       "      <td>31520</td>\n",
       "      <td>389</td>\n",
       "      <td>2015-06-01 00:00:00</td>\n",
       "      <td>False</td>\n",
       "      <td>ZW</td>\n",
       "      <td>Individual</td>\n",
       "      <td>Mr</td>\n",
       "      <td>English</td>\n",
       "      <td>ABSA Bank</td>\n",
       "      <td>Savings account</td>\n",
       "      <td>...</td>\n",
       "      <td>No excess</td>\n",
       "      <td>Third Party</td>\n",
       "      <td>Third Party</td>\n",
       "      <td>Comprehensive - Taxi</td>\n",
       "      <td>Motor Comprehensive</td>\n",
       "      <td>Mobility Commercial Cover: Monthly</td>\n",
       "      <td>Commercial</td>\n",
       "      <td>IFRS Constant</td>\n",
       "      <td>347.235175</td>\n",
       "      <td>0.0</td>\n",
       "    </tr>\n",
       "    <tr>\n",
       "      <th>973379</th>\n",
       "      <td>31520</td>\n",
       "      <td>389</td>\n",
       "      <td>2015-08-01 00:00:00</td>\n",
       "      <td>False</td>\n",
       "      <td>ZW</td>\n",
       "      <td>Individual</td>\n",
       "      <td>Mr</td>\n",
       "      <td>English</td>\n",
       "      <td>ABSA Bank</td>\n",
       "      <td>Savings account</td>\n",
       "      <td>...</td>\n",
       "      <td>No excess</td>\n",
       "      <td>Third Party</td>\n",
       "      <td>Third Party</td>\n",
       "      <td>Comprehensive - Taxi</td>\n",
       "      <td>Motor Comprehensive</td>\n",
       "      <td>Mobility Commercial Cover: Monthly</td>\n",
       "      <td>Commercial</td>\n",
       "      <td>IFRS Constant</td>\n",
       "      <td>347.235175</td>\n",
       "      <td>0.0</td>\n",
       "    </tr>\n",
       "    <tr>\n",
       "      <th>973380</th>\n",
       "      <td>31519</td>\n",
       "      <td>389</td>\n",
       "      <td>2014-07-01 00:00:00</td>\n",
       "      <td>False</td>\n",
       "      <td>ZW</td>\n",
       "      <td>Individual</td>\n",
       "      <td>Mr</td>\n",
       "      <td>English</td>\n",
       "      <td>ABSA Bank</td>\n",
       "      <td>Savings account</td>\n",
       "      <td>...</td>\n",
       "      <td>No excess</td>\n",
       "      <td>Passenger Liability</td>\n",
       "      <td>Passenger Liability</td>\n",
       "      <td>Comprehensive - Taxi</td>\n",
       "      <td>Motor Comprehensive</td>\n",
       "      <td>Mobility Commercial Cover: Monthly</td>\n",
       "      <td>Commercial</td>\n",
       "      <td>IFRS Constant</td>\n",
       "      <td>2.315000</td>\n",
       "      <td>0.0</td>\n",
       "    </tr>\n",
       "    <tr>\n",
       "      <th>973381</th>\n",
       "      <td>31519</td>\n",
       "      <td>389</td>\n",
       "      <td>2015-02-01 00:00:00</td>\n",
       "      <td>False</td>\n",
       "      <td>ZW</td>\n",
       "      <td>Individual</td>\n",
       "      <td>Mr</td>\n",
       "      <td>English</td>\n",
       "      <td>ABSA Bank</td>\n",
       "      <td>Savings account</td>\n",
       "      <td>...</td>\n",
       "      <td>No excess</td>\n",
       "      <td>Passenger Liability</td>\n",
       "      <td>Passenger Liability</td>\n",
       "      <td>Comprehensive - Taxi</td>\n",
       "      <td>Motor Comprehensive</td>\n",
       "      <td>Mobility Commercial Cover: Monthly</td>\n",
       "      <td>Commercial</td>\n",
       "      <td>IFRS Constant</td>\n",
       "      <td>2.315000</td>\n",
       "      <td>0.0</td>\n",
       "    </tr>\n",
       "  </tbody>\n",
       "</table>\n",
       "<p>5 rows × 52 columns</p>\n",
       "</div>"
      ],
      "text/plain": [
       "        UnderwrittenCoverID  PolicyID     TransactionMonth  IsVATRegistered  \\\n",
       "973377                31520       389  2015-04-01 00:00:00            False   \n",
       "973378                31520       389  2015-06-01 00:00:00            False   \n",
       "973379                31520       389  2015-08-01 00:00:00            False   \n",
       "973380                31519       389  2014-07-01 00:00:00            False   \n",
       "973381                31519       389  2015-02-01 00:00:00            False   \n",
       "\n",
       "       Citizenship   LegalType Title Language       Bank      AccountType  \\\n",
       "973377          ZW  Individual    Mr  English  ABSA Bank  Savings account   \n",
       "973378          ZW  Individual    Mr  English  ABSA Bank  Savings account   \n",
       "973379          ZW  Individual    Mr  English  ABSA Bank  Savings account   \n",
       "973380          ZW  Individual    Mr  English  ABSA Bank  Savings account   \n",
       "973381          ZW  Individual    Mr  English  ABSA Bank  Savings account   \n",
       "\n",
       "        ... ExcessSelected        CoverCategory            CoverType  \\\n",
       "973377  ...      No excess          Third Party          Third Party   \n",
       "973378  ...      No excess          Third Party          Third Party   \n",
       "973379  ...      No excess          Third Party          Third Party   \n",
       "973380  ...      No excess  Passenger Liability  Passenger Liability   \n",
       "973381  ...      No excess  Passenger Liability  Passenger Liability   \n",
       "\n",
       "                  CoverGroup              Section  \\\n",
       "973377  Comprehensive - Taxi  Motor Comprehensive   \n",
       "973378  Comprehensive - Taxi  Motor Comprehensive   \n",
       "973379  Comprehensive - Taxi  Motor Comprehensive   \n",
       "973380  Comprehensive - Taxi  Motor Comprehensive   \n",
       "973381  Comprehensive - Taxi  Motor Comprehensive   \n",
       "\n",
       "                                   Product StatutoryClass StatutoryRiskType  \\\n",
       "973377  Mobility Commercial Cover: Monthly     Commercial     IFRS Constant   \n",
       "973378  Mobility Commercial Cover: Monthly     Commercial     IFRS Constant   \n",
       "973379  Mobility Commercial Cover: Monthly     Commercial     IFRS Constant   \n",
       "973380  Mobility Commercial Cover: Monthly     Commercial     IFRS Constant   \n",
       "973381  Mobility Commercial Cover: Monthly     Commercial     IFRS Constant   \n",
       "\n",
       "        TotalPremium TotalClaims  \n",
       "973377    347.235175         0.0  \n",
       "973378    347.235175         0.0  \n",
       "973379    347.235175         0.0  \n",
       "973380      2.315000         0.0  \n",
       "973381      2.315000         0.0  \n",
       "\n",
       "[5 rows x 52 columns]"
      ]
     },
     "execution_count": 6,
     "metadata": {},
     "output_type": "execute_result"
    }
   ],
   "source": [
    "df.tail()"
   ]
  },
  {
   "cell_type": "code",
   "execution_count": 7,
   "id": "cca1da64",
   "metadata": {},
   "outputs": [
    {
     "name": "stdout",
     "output_type": "stream",
     "text": [
      "<class 'pandas.core.frame.DataFrame'>\n",
      "RangeIndex: 973382 entries, 0 to 973381\n",
      "Data columns (total 52 columns):\n",
      " #   Column                    Non-Null Count   Dtype  \n",
      "---  ------                    --------------   -----  \n",
      " 0   UnderwrittenCoverID       973382 non-null  int64  \n",
      " 1   PolicyID                  973382 non-null  int64  \n",
      " 2   TransactionMonth          973382 non-null  object \n",
      " 3   IsVATRegistered           973382 non-null  bool   \n",
      " 4   Citizenship               973382 non-null  object \n",
      " 5   LegalType                 973382 non-null  object \n",
      " 6   Title                     973382 non-null  object \n",
      " 7   Language                  973382 non-null  object \n",
      " 8   Bank                      831862 non-null  object \n",
      " 9   AccountType               934647 non-null  object \n",
      " 10  MaritalStatus             965123 non-null  object \n",
      " 11  Gender                    963846 non-null  object \n",
      " 12  Country                   973382 non-null  object \n",
      " 13  Province                  973382 non-null  object \n",
      " 14  PostalCode                973382 non-null  int64  \n",
      " 15  MainCrestaZone            973382 non-null  object \n",
      " 16  SubCrestaZone             973382 non-null  object \n",
      " 17  ItemType                  973382 non-null  object \n",
      " 18  mmcode                    972830 non-null  float64\n",
      " 19  VehicleType               972830 non-null  object \n",
      " 20  RegistrationYear          973382 non-null  int64  \n",
      " 21  make                      972830 non-null  object \n",
      " 22  Model                     972830 non-null  object \n",
      " 23  Cylinders                 972830 non-null  float64\n",
      " 24  cubiccapacity             972830 non-null  float64\n",
      " 25  kilowatts                 972830 non-null  float64\n",
      " 26  bodytype                  972830 non-null  object \n",
      " 27  NumberOfDoors             972830 non-null  float64\n",
      " 28  VehicleIntroDate          972830 non-null  object \n",
      " 29  CustomValueEstimate       214663 non-null  float64\n",
      " 30  AlarmImmobiliser          973382 non-null  object \n",
      " 31  TrackingDevice            973382 non-null  object \n",
      " 32  CapitalOutstanding        973380 non-null  float64\n",
      " 33  NewVehicle                820829 non-null  object \n",
      " 34  WrittenOff                349116 non-null  object \n",
      " 35  Rebuilt                   349116 non-null  object \n",
      " 36  Converted                 349116 non-null  object \n",
      " 37  CrossBorder               698 non-null     object \n",
      " 38  NumberOfVehiclesInFleet   0 non-null       float64\n",
      " 39  SumInsured                973382 non-null  float64\n",
      " 40  TermFrequency             973382 non-null  object \n",
      " 41  CalculatedPremiumPerTerm  973382 non-null  float64\n",
      " 42  ExcessSelected            973382 non-null  object \n",
      " 43  CoverCategory             973382 non-null  object \n",
      " 44  CoverType                 973382 non-null  object \n",
      " 45  CoverGroup                973382 non-null  object \n",
      " 46  Section                   973382 non-null  object \n",
      " 47  Product                   973382 non-null  object \n",
      " 48  StatutoryClass            973382 non-null  object \n",
      " 49  StatutoryRiskType         973382 non-null  object \n",
      " 50  TotalPremium              973382 non-null  float64\n",
      " 51  TotalClaims               973382 non-null  float64\n",
      "dtypes: bool(1), float64(12), int64(4), object(35)\n",
      "memory usage: 379.7+ MB\n"
     ]
    }
   ],
   "source": [
    "df.info()"
   ]
  },
  {
   "cell_type": "code",
   "execution_count": 8,
   "id": "e58a0020",
   "metadata": {},
   "outputs": [
    {
     "data": {
      "application/vnd.microsoft.datawrangler.viewer.v0+json": {
       "columns": [
        {
         "name": "index",
         "rawType": "object",
         "type": "string"
        },
        {
         "name": "UnderwrittenCoverID",
         "rawType": "float64",
         "type": "float"
        },
        {
         "name": "PolicyID",
         "rawType": "float64",
         "type": "float"
        },
        {
         "name": "PostalCode",
         "rawType": "float64",
         "type": "float"
        },
        {
         "name": "mmcode",
         "rawType": "float64",
         "type": "float"
        },
        {
         "name": "RegistrationYear",
         "rawType": "float64",
         "type": "float"
        },
        {
         "name": "Cylinders",
         "rawType": "float64",
         "type": "float"
        },
        {
         "name": "cubiccapacity",
         "rawType": "float64",
         "type": "float"
        },
        {
         "name": "kilowatts",
         "rawType": "float64",
         "type": "float"
        },
        {
         "name": "NumberOfDoors",
         "rawType": "float64",
         "type": "float"
        },
        {
         "name": "CustomValueEstimate",
         "rawType": "float64",
         "type": "float"
        },
        {
         "name": "CapitalOutstanding",
         "rawType": "float64",
         "type": "float"
        },
        {
         "name": "NumberOfVehiclesInFleet",
         "rawType": "float64",
         "type": "float"
        },
        {
         "name": "SumInsured",
         "rawType": "float64",
         "type": "float"
        },
        {
         "name": "CalculatedPremiumPerTerm",
         "rawType": "float64",
         "type": "float"
        },
        {
         "name": "TotalPremium",
         "rawType": "float64",
         "type": "float"
        },
        {
         "name": "TotalClaims",
         "rawType": "float64",
         "type": "float"
        }
       ],
       "ref": "f095932e-d2e4-457e-b2e3-c39b220fe873",
       "rows": [
        [
         "count",
         "973382.0",
         "973382.0",
         "973382.0",
         "972830.0",
         "973382.0",
         "972830.0",
         "972830.0",
         "972830.0",
         "972830.0",
         "214663.0",
         "973380.0",
         "0.0",
         "973382.0",
         "973382.0",
         "973382.0",
         "973382.0"
        ],
        [
         "mean",
         "104134.27414108747",
         "7891.596664002416",
         "2948.9501552319643",
         "54799077.24923059",
         "2010.1897610598921",
         "4.047416300895326",
         "2467.5469290626315",
         "97.31671926235828",
         "4.016623664977437",
         "224435.25842105996",
         "52346.863963714066",
         null,
         "604910.9819687216",
         "117.51647900567302",
         "61.737566120338876",
         "65.58385651715973"
        ],
        [
         "std",
         "63352.93582520556",
         "5292.157632832205",
         "2646.084789373131",
         "13701794.939917928",
         "3.261042514671109",
         "0.2967169379855657",
         "443.9628320388064",
         "19.410539933449897",
         "0.46911255733049423",
         "571852.8675078964",
         "110952.35709427121",
         null,
         "1509809.8996659953",
         "403.2306305175053",
         "231.722483656472",
         "2390.027958646933"
        ],
        [
         "min",
         "1.0",
         "14.0",
         "1.0",
         "4041200.0",
         "1987.0",
         "0.0",
         "0.0",
         "0.0",
         "0.0",
         "20000.0",
         "-2.0",
         null,
         "0.01",
         "0.0",
         "-782.576754385965",
         "-12002.412280701796"
        ],
        [
         "25%",
         "54620.0",
         "4414.0",
         "700.0",
         "60056925.0",
         "2008.0",
         "4.0",
         "2237.0",
         "75.0",
         "4.0",
         "135000.0",
         "0.0",
         null,
         "5000.0",
         "3.1975",
         "0.0",
         "0.0"
        ],
        [
         "50%",
         "93509.0",
         "7033.0",
         "2000.0",
         "60058415.0",
         "2011.0",
         "4.0",
         "2694.0",
         "111.0",
         "4.0",
         "220000.0",
         "0.0",
         null,
         "7500.0",
         "8.40125",
         "2.175614035087",
         "0.0"
        ],
        [
         "75%",
         "138422.0",
         "11008.0",
         "4093.0",
         "60058418.0",
         "2013.0",
         "4.0",
         "2694.0",
         "111.0",
         "4.0",
         "280000.0",
         "0.0",
         null,
         "250000.0",
         "90.0",
         "21.929824561403",
         "0.0"
        ],
        [
         "max",
         "301175.0",
         "23246.0",
         "9870.0",
         "65065350.0",
         "2015.0",
         "10.0",
         "12880.0",
         "309.0",
         "6.0",
         "26550000.0",
         "700000.0",
         null,
         "12636200.0",
         "74422.1679",
         "65282.6034210526",
         "393092.105263158"
        ]
       ],
       "shape": {
        "columns": 16,
        "rows": 8
       }
      },
      "text/html": [
       "<div>\n",
       "<style scoped>\n",
       "    .dataframe tbody tr th:only-of-type {\n",
       "        vertical-align: middle;\n",
       "    }\n",
       "\n",
       "    .dataframe tbody tr th {\n",
       "        vertical-align: top;\n",
       "    }\n",
       "\n",
       "    .dataframe thead th {\n",
       "        text-align: right;\n",
       "    }\n",
       "</style>\n",
       "<table border=\"1\" class=\"dataframe\">\n",
       "  <thead>\n",
       "    <tr style=\"text-align: right;\">\n",
       "      <th></th>\n",
       "      <th>UnderwrittenCoverID</th>\n",
       "      <th>PolicyID</th>\n",
       "      <th>PostalCode</th>\n",
       "      <th>mmcode</th>\n",
       "      <th>RegistrationYear</th>\n",
       "      <th>Cylinders</th>\n",
       "      <th>cubiccapacity</th>\n",
       "      <th>kilowatts</th>\n",
       "      <th>NumberOfDoors</th>\n",
       "      <th>CustomValueEstimate</th>\n",
       "      <th>CapitalOutstanding</th>\n",
       "      <th>NumberOfVehiclesInFleet</th>\n",
       "      <th>SumInsured</th>\n",
       "      <th>CalculatedPremiumPerTerm</th>\n",
       "      <th>TotalPremium</th>\n",
       "      <th>TotalClaims</th>\n",
       "    </tr>\n",
       "  </thead>\n",
       "  <tbody>\n",
       "    <tr>\n",
       "      <th>count</th>\n",
       "      <td>973382.000000</td>\n",
       "      <td>973382.000000</td>\n",
       "      <td>973382.000000</td>\n",
       "      <td>9.728300e+05</td>\n",
       "      <td>973382.000000</td>\n",
       "      <td>972830.000000</td>\n",
       "      <td>972830.000000</td>\n",
       "      <td>972830.000000</td>\n",
       "      <td>972830.000000</td>\n",
       "      <td>2.146630e+05</td>\n",
       "      <td>973380.000000</td>\n",
       "      <td>0.0</td>\n",
       "      <td>9.733820e+05</td>\n",
       "      <td>973382.000000</td>\n",
       "      <td>973382.000000</td>\n",
       "      <td>973382.000000</td>\n",
       "    </tr>\n",
       "    <tr>\n",
       "      <th>mean</th>\n",
       "      <td>104134.274141</td>\n",
       "      <td>7891.596664</td>\n",
       "      <td>2948.950155</td>\n",
       "      <td>5.479908e+07</td>\n",
       "      <td>2010.189761</td>\n",
       "      <td>4.047416</td>\n",
       "      <td>2467.546929</td>\n",
       "      <td>97.316719</td>\n",
       "      <td>4.016624</td>\n",
       "      <td>2.244353e+05</td>\n",
       "      <td>52346.863964</td>\n",
       "      <td>NaN</td>\n",
       "      <td>6.049110e+05</td>\n",
       "      <td>117.516479</td>\n",
       "      <td>61.737566</td>\n",
       "      <td>65.583857</td>\n",
       "    </tr>\n",
       "    <tr>\n",
       "      <th>std</th>\n",
       "      <td>63352.935825</td>\n",
       "      <td>5292.157633</td>\n",
       "      <td>2646.084789</td>\n",
       "      <td>1.370179e+07</td>\n",
       "      <td>3.261043</td>\n",
       "      <td>0.296717</td>\n",
       "      <td>443.962832</td>\n",
       "      <td>19.410540</td>\n",
       "      <td>0.469113</td>\n",
       "      <td>5.718529e+05</td>\n",
       "      <td>110952.357094</td>\n",
       "      <td>NaN</td>\n",
       "      <td>1.509810e+06</td>\n",
       "      <td>403.230631</td>\n",
       "      <td>231.722484</td>\n",
       "      <td>2390.027959</td>\n",
       "    </tr>\n",
       "    <tr>\n",
       "      <th>min</th>\n",
       "      <td>1.000000</td>\n",
       "      <td>14.000000</td>\n",
       "      <td>1.000000</td>\n",
       "      <td>4.041200e+06</td>\n",
       "      <td>1987.000000</td>\n",
       "      <td>0.000000</td>\n",
       "      <td>0.000000</td>\n",
       "      <td>0.000000</td>\n",
       "      <td>0.000000</td>\n",
       "      <td>2.000000e+04</td>\n",
       "      <td>-2.000000</td>\n",
       "      <td>NaN</td>\n",
       "      <td>1.000000e-02</td>\n",
       "      <td>0.000000</td>\n",
       "      <td>-782.576754</td>\n",
       "      <td>-12002.412281</td>\n",
       "    </tr>\n",
       "    <tr>\n",
       "      <th>25%</th>\n",
       "      <td>54620.000000</td>\n",
       "      <td>4414.000000</td>\n",
       "      <td>700.000000</td>\n",
       "      <td>6.005692e+07</td>\n",
       "      <td>2008.000000</td>\n",
       "      <td>4.000000</td>\n",
       "      <td>2237.000000</td>\n",
       "      <td>75.000000</td>\n",
       "      <td>4.000000</td>\n",
       "      <td>1.350000e+05</td>\n",
       "      <td>0.000000</td>\n",
       "      <td>NaN</td>\n",
       "      <td>5.000000e+03</td>\n",
       "      <td>3.197500</td>\n",
       "      <td>0.000000</td>\n",
       "      <td>0.000000</td>\n",
       "    </tr>\n",
       "    <tr>\n",
       "      <th>50%</th>\n",
       "      <td>93509.000000</td>\n",
       "      <td>7033.000000</td>\n",
       "      <td>2000.000000</td>\n",
       "      <td>6.005842e+07</td>\n",
       "      <td>2011.000000</td>\n",
       "      <td>4.000000</td>\n",
       "      <td>2694.000000</td>\n",
       "      <td>111.000000</td>\n",
       "      <td>4.000000</td>\n",
       "      <td>2.200000e+05</td>\n",
       "      <td>0.000000</td>\n",
       "      <td>NaN</td>\n",
       "      <td>7.500000e+03</td>\n",
       "      <td>8.401250</td>\n",
       "      <td>2.175614</td>\n",
       "      <td>0.000000</td>\n",
       "    </tr>\n",
       "    <tr>\n",
       "      <th>75%</th>\n",
       "      <td>138422.000000</td>\n",
       "      <td>11008.000000</td>\n",
       "      <td>4093.000000</td>\n",
       "      <td>6.005842e+07</td>\n",
       "      <td>2013.000000</td>\n",
       "      <td>4.000000</td>\n",
       "      <td>2694.000000</td>\n",
       "      <td>111.000000</td>\n",
       "      <td>4.000000</td>\n",
       "      <td>2.800000e+05</td>\n",
       "      <td>0.000000</td>\n",
       "      <td>NaN</td>\n",
       "      <td>2.500000e+05</td>\n",
       "      <td>90.000000</td>\n",
       "      <td>21.929825</td>\n",
       "      <td>0.000000</td>\n",
       "    </tr>\n",
       "    <tr>\n",
       "      <th>max</th>\n",
       "      <td>301175.000000</td>\n",
       "      <td>23246.000000</td>\n",
       "      <td>9870.000000</td>\n",
       "      <td>6.506535e+07</td>\n",
       "      <td>2015.000000</td>\n",
       "      <td>10.000000</td>\n",
       "      <td>12880.000000</td>\n",
       "      <td>309.000000</td>\n",
       "      <td>6.000000</td>\n",
       "      <td>2.655000e+07</td>\n",
       "      <td>700000.000000</td>\n",
       "      <td>NaN</td>\n",
       "      <td>1.263620e+07</td>\n",
       "      <td>74422.167900</td>\n",
       "      <td>65282.603421</td>\n",
       "      <td>393092.105263</td>\n",
       "    </tr>\n",
       "  </tbody>\n",
       "</table>\n",
       "</div>"
      ],
      "text/plain": [
       "       UnderwrittenCoverID       PolicyID     PostalCode        mmcode  \\\n",
       "count        973382.000000  973382.000000  973382.000000  9.728300e+05   \n",
       "mean         104134.274141    7891.596664    2948.950155  5.479908e+07   \n",
       "std           63352.935825    5292.157633    2646.084789  1.370179e+07   \n",
       "min               1.000000      14.000000       1.000000  4.041200e+06   \n",
       "25%           54620.000000    4414.000000     700.000000  6.005692e+07   \n",
       "50%           93509.000000    7033.000000    2000.000000  6.005842e+07   \n",
       "75%          138422.000000   11008.000000    4093.000000  6.005842e+07   \n",
       "max          301175.000000   23246.000000    9870.000000  6.506535e+07   \n",
       "\n",
       "       RegistrationYear      Cylinders  cubiccapacity      kilowatts  \\\n",
       "count     973382.000000  972830.000000  972830.000000  972830.000000   \n",
       "mean        2010.189761       4.047416    2467.546929      97.316719   \n",
       "std            3.261043       0.296717     443.962832      19.410540   \n",
       "min         1987.000000       0.000000       0.000000       0.000000   \n",
       "25%         2008.000000       4.000000    2237.000000      75.000000   \n",
       "50%         2011.000000       4.000000    2694.000000     111.000000   \n",
       "75%         2013.000000       4.000000    2694.000000     111.000000   \n",
       "max         2015.000000      10.000000   12880.000000     309.000000   \n",
       "\n",
       "       NumberOfDoors  CustomValueEstimate  CapitalOutstanding  \\\n",
       "count  972830.000000         2.146630e+05       973380.000000   \n",
       "mean        4.016624         2.244353e+05        52346.863964   \n",
       "std         0.469113         5.718529e+05       110952.357094   \n",
       "min         0.000000         2.000000e+04           -2.000000   \n",
       "25%         4.000000         1.350000e+05            0.000000   \n",
       "50%         4.000000         2.200000e+05            0.000000   \n",
       "75%         4.000000         2.800000e+05            0.000000   \n",
       "max         6.000000         2.655000e+07       700000.000000   \n",
       "\n",
       "       NumberOfVehiclesInFleet    SumInsured  CalculatedPremiumPerTerm  \\\n",
       "count                      0.0  9.733820e+05             973382.000000   \n",
       "mean                       NaN  6.049110e+05                117.516479   \n",
       "std                        NaN  1.509810e+06                403.230631   \n",
       "min                        NaN  1.000000e-02                  0.000000   \n",
       "25%                        NaN  5.000000e+03                  3.197500   \n",
       "50%                        NaN  7.500000e+03                  8.401250   \n",
       "75%                        NaN  2.500000e+05                 90.000000   \n",
       "max                        NaN  1.263620e+07              74422.167900   \n",
       "\n",
       "        TotalPremium    TotalClaims  \n",
       "count  973382.000000  973382.000000  \n",
       "mean       61.737566      65.583857  \n",
       "std       231.722484    2390.027959  \n",
       "min      -782.576754  -12002.412281  \n",
       "25%         0.000000       0.000000  \n",
       "50%         2.175614       0.000000  \n",
       "75%        21.929825       0.000000  \n",
       "max     65282.603421  393092.105263  "
      ]
     },
     "execution_count": 8,
     "metadata": {},
     "output_type": "execute_result"
    }
   ],
   "source": [
    "df.describe()"
   ]
  },
  {
   "cell_type": "code",
   "execution_count": 9,
   "id": "acea1bf4",
   "metadata": {},
   "outputs": [
    {
     "data": {
      "text/plain": [
       "Index(['UnderwrittenCoverID', 'PolicyID', 'TransactionMonth',\n",
       "       'IsVATRegistered', 'Citizenship', 'LegalType', 'Title', 'Language',\n",
       "       'Bank', 'AccountType', 'MaritalStatus', 'Gender', 'Country', 'Province',\n",
       "       'PostalCode', 'MainCrestaZone', 'SubCrestaZone', 'ItemType', 'mmcode',\n",
       "       'VehicleType', 'RegistrationYear', 'make', 'Model', 'Cylinders',\n",
       "       'cubiccapacity', 'kilowatts', 'bodytype', 'NumberOfDoors',\n",
       "       'VehicleIntroDate', 'CustomValueEstimate', 'AlarmImmobiliser',\n",
       "       'TrackingDevice', 'CapitalOutstanding', 'NewVehicle', 'WrittenOff',\n",
       "       'Rebuilt', 'Converted', 'CrossBorder', 'NumberOfVehiclesInFleet',\n",
       "       'SumInsured', 'TermFrequency', 'CalculatedPremiumPerTerm',\n",
       "       'ExcessSelected', 'CoverCategory', 'CoverType', 'CoverGroup', 'Section',\n",
       "       'Product', 'StatutoryClass', 'StatutoryRiskType', 'TotalPremium',\n",
       "       'TotalClaims'],\n",
       "      dtype='object')"
      ]
     },
     "execution_count": 9,
     "metadata": {},
     "output_type": "execute_result"
    }
   ],
   "source": [
    "df.columns"
   ]
  },
  {
   "cell_type": "code",
   "execution_count": 10,
   "id": "992a65b0",
   "metadata": {},
   "outputs": [],
   "source": [
    "df['TransactionMonth'] = pd.to_datetime(df['TransactionMonth'])\n"
   ]
  },
  {
   "cell_type": "code",
   "execution_count": 12,
   "id": "8a3d4ee8",
   "metadata": {},
   "outputs": [
    {
     "data": {
      "application/vnd.microsoft.datawrangler.viewer.v0+json": {
       "columns": [
        {
         "name": "index",
         "rawType": "object",
         "type": "string"
        },
        {
         "name": "TotalPremium",
         "rawType": "float64",
         "type": "float"
        },
        {
         "name": "TotalClaims",
         "rawType": "float64",
         "type": "float"
        },
        {
         "name": "CustomValueEstimate",
         "rawType": "float64",
         "type": "float"
        }
       ],
       "ref": "53e4a219-6d81-49a5-80ad-775542c34c7f",
       "rows": [
        [
         "count",
         "973382.0",
         "973382.0",
         "214663.0"
        ],
        [
         "mean",
         "61.737566120338876",
         "65.58385651715973",
         "224435.25842105996"
        ],
        [
         "std",
         "231.722483656472",
         "2390.027958646933",
         "571852.8675078964"
        ],
        [
         "min",
         "-782.576754385965",
         "-12002.412280701796",
         "20000.0"
        ],
        [
         "25%",
         "0.0",
         "0.0",
         "135000.0"
        ],
        [
         "50%",
         "2.175614035087",
         "0.0",
         "220000.0"
        ],
        [
         "75%",
         "21.929824561403",
         "0.0",
         "280000.0"
        ],
        [
         "max",
         "65282.6034210526",
         "393092.105263158",
         "26550000.0"
        ]
       ],
       "shape": {
        "columns": 3,
        "rows": 8
       }
      },
      "text/html": [
       "<div>\n",
       "<style scoped>\n",
       "    .dataframe tbody tr th:only-of-type {\n",
       "        vertical-align: middle;\n",
       "    }\n",
       "\n",
       "    .dataframe tbody tr th {\n",
       "        vertical-align: top;\n",
       "    }\n",
       "\n",
       "    .dataframe thead th {\n",
       "        text-align: right;\n",
       "    }\n",
       "</style>\n",
       "<table border=\"1\" class=\"dataframe\">\n",
       "  <thead>\n",
       "    <tr style=\"text-align: right;\">\n",
       "      <th></th>\n",
       "      <th>TotalPremium</th>\n",
       "      <th>TotalClaims</th>\n",
       "      <th>CustomValueEstimate</th>\n",
       "    </tr>\n",
       "  </thead>\n",
       "  <tbody>\n",
       "    <tr>\n",
       "      <th>count</th>\n",
       "      <td>973382.000000</td>\n",
       "      <td>973382.000000</td>\n",
       "      <td>2.146630e+05</td>\n",
       "    </tr>\n",
       "    <tr>\n",
       "      <th>mean</th>\n",
       "      <td>61.737566</td>\n",
       "      <td>65.583857</td>\n",
       "      <td>2.244353e+05</td>\n",
       "    </tr>\n",
       "    <tr>\n",
       "      <th>std</th>\n",
       "      <td>231.722484</td>\n",
       "      <td>2390.027959</td>\n",
       "      <td>5.718529e+05</td>\n",
       "    </tr>\n",
       "    <tr>\n",
       "      <th>min</th>\n",
       "      <td>-782.576754</td>\n",
       "      <td>-12002.412281</td>\n",
       "      <td>2.000000e+04</td>\n",
       "    </tr>\n",
       "    <tr>\n",
       "      <th>25%</th>\n",
       "      <td>0.000000</td>\n",
       "      <td>0.000000</td>\n",
       "      <td>1.350000e+05</td>\n",
       "    </tr>\n",
       "    <tr>\n",
       "      <th>50%</th>\n",
       "      <td>2.175614</td>\n",
       "      <td>0.000000</td>\n",
       "      <td>2.200000e+05</td>\n",
       "    </tr>\n",
       "    <tr>\n",
       "      <th>75%</th>\n",
       "      <td>21.929825</td>\n",
       "      <td>0.000000</td>\n",
       "      <td>2.800000e+05</td>\n",
       "    </tr>\n",
       "    <tr>\n",
       "      <th>max</th>\n",
       "      <td>65282.603421</td>\n",
       "      <td>393092.105263</td>\n",
       "      <td>2.655000e+07</td>\n",
       "    </tr>\n",
       "  </tbody>\n",
       "</table>\n",
       "</div>"
      ],
      "text/plain": [
       "        TotalPremium    TotalClaims  CustomValueEstimate\n",
       "count  973382.000000  973382.000000         2.146630e+05\n",
       "mean       61.737566      65.583857         2.244353e+05\n",
       "std       231.722484    2390.027959         5.718529e+05\n",
       "min      -782.576754  -12002.412281         2.000000e+04\n",
       "25%         0.000000       0.000000         1.350000e+05\n",
       "50%         2.175614       0.000000         2.200000e+05\n",
       "75%        21.929825       0.000000         2.800000e+05\n",
       "max     65282.603421  393092.105263         2.655000e+07"
      ]
     },
     "execution_count": 12,
     "metadata": {},
     "output_type": "execute_result"
    }
   ],
   "source": [
    "df[['TotalPremium', 'TotalClaims', 'CustomValueEstimate']].describe()\n"
   ]
  },
  {
   "cell_type": "markdown",
   "id": "11c7def2",
   "metadata": {},
   "source": [
    "#### Loss Ratio"
   ]
  },
  {
   "cell_type": "code",
   "execution_count": 13,
   "id": "5c032a6e",
   "metadata": {},
   "outputs": [],
   "source": [
    "df['LossRatio'] = df['TotalClaims'] / df['TotalPremium']\n"
   ]
  },
  {
   "cell_type": "markdown",
   "id": "0c326370",
   "metadata": {},
   "source": [
    "#### Loss Ratio by Province, VehicleType, Gender"
   ]
  },
  {
   "cell_type": "code",
   "execution_count": 14,
   "id": "e067cbec",
   "metadata": {},
   "outputs": [
    {
     "data": {
      "application/vnd.microsoft.datawrangler.viewer.v0+json": {
       "columns": [
        {
         "name": "Province",
         "rawType": "object",
         "type": "string"
        },
        {
         "name": "LossRatio",
         "rawType": "float64",
         "type": "float"
        }
       ],
       "ref": "7b9ba127-a785-423f-992f-5bfb5534c4b5",
       "rows": [
        [
         "Eastern Cape",
         "inf"
        ],
        [
         "Free State",
         "inf"
        ],
        [
         "KwaZulu-Natal",
         "inf"
        ],
        [
         "Limpopo",
         "inf"
        ],
        [
         "North West",
         "inf"
        ],
        [
         "Western Cape",
         "inf"
        ],
        [
         "Northern Cape",
         "0.20383085693985306"
        ],
        [
         "Gauteng",
         null
        ],
        [
         "Mpumalanga",
         null
        ]
       ],
       "shape": {
        "columns": 1,
        "rows": 9
       }
      },
      "text/plain": [
       "Province\n",
       "Eastern Cape          inf\n",
       "Free State            inf\n",
       "KwaZulu-Natal         inf\n",
       "Limpopo               inf\n",
       "North West            inf\n",
       "Western Cape          inf\n",
       "Northern Cape    0.203831\n",
       "Gauteng               NaN\n",
       "Mpumalanga            NaN\n",
       "Name: LossRatio, dtype: float64"
      ]
     },
     "execution_count": 14,
     "metadata": {},
     "output_type": "execute_result"
    }
   ],
   "source": [
    "df.groupby('Province')['LossRatio'].mean().sort_values(ascending=False)\n"
   ]
  },
  {
   "cell_type": "code",
   "execution_count": 11,
   "id": "fef5146a",
   "metadata": {},
   "outputs": [
    {
     "data": {
      "image/png": "[encoded data removed]",
      "text/plain": [
       "<Figure size 640x480 with 1 Axes>"
      ]
     },
     "metadata": {},
     "output_type": "display_data"
    }
   ],
   "source": [
    "import seaborn as sns\n",
    "import matplotlib.pyplot as plt\n",
    "\n",
    "sns.histplot(df['TotalClaims'], bins=50)\n",
    "plt.title('Distribution of Total Claims')\n",
    "plt.show()\n"
   ]
  },
  {
   "cell_type": "code",
   "execution_count": null,
   "id": "49e3c885",
   "metadata": {},
   "outputs": [],
   "source": [
    "sns.boxplot(x=df['CustomValueEstimate'])"
   ]
  },
  {
   "cell_type": "code",
   "execution_count": 15,
   "id": "dd6896e6",
   "metadata": {},
   "outputs": [
    {
     "data": {
      "text/plain": [
       "<Axes: >"
      ]
     },
     "execution_count": 15,
     "metadata": {},
     "output_type": "execute_result"
    },
    {
     "data": {
      "image/png": "[encoded data removed]",
      "text/plain": [
       "<Figure size 640x480 with 2 Axes>"
      ]
     },
     "metadata": {},
     "output_type": "display_data"
    }
   ],
   "source": [
    "sns.scatterplot(data=df, x='TotalPremium', y='TotalClaims')\n",
    "sns.heatmap(df[['TotalPremium', 'TotalClaims', 'LossRatio']].corr(), annot=True)"
   ]
  },
  {
   "cell_type": "code",
   "execution_count": 16,
   "id": "c15e50f0",
   "metadata": {},
   "outputs": [
    {
     "name": "stderr",
     "output_type": "stream",
     "text": [
      "C:\\Users\\micha\\AppData\\Local\\Temp\\ipykernel_5612\\477015655.py:1: FutureWarning: 'M' is deprecated and will be removed in a future version, please use 'ME' instead.\n",
      "  df.set_index('TransactionMonth').resample('M')['TotalClaims'].sum().plot()\n"
     ]
    },
    {
     "data": {
      "text/plain": [
       "<Axes: xlabel='TransactionMonth'>"
      ]
     },
     "execution_count": 16,
     "metadata": {},
     "output_type": "execute_result"
    },
    {
     "data": {
      "image/png": "[encoded data removed]",
      "text/plain": [
       "<Figure size 640x480 with 1 Axes>"
      ]
     },
     "metadata": {},
     "output_type": "display_data"
    }
   ],
   "source": [
    "df.set_index('TransactionMonth').resample('M')['TotalClaims'].sum().plot()"
   ]
  },
  {
   "cell_type": "code",
   "execution_count": 17,
   "id": "63b7cb80",
   "metadata": {},
   "outputs": [
    {
     "data": {
      "text/plain": [
       "([0, 1, 2, 3, 4, 5, 6, 7, 8],\n",
       " [Text(0, 0, 'Gauteng'),\n",
       "  Text(1, 0, 'KwaZulu-Natal'),\n",
       "  Text(2, 0, 'Mpumalanga'),\n",
       "  Text(3, 0, 'Western Cape'),\n",
       "  Text(4, 0, 'Limpopo'),\n",
       "  Text(5, 0, 'North West'),\n",
       "  Text(6, 0, 'Free State'),\n",
       "  Text(7, 0, 'Eastern Cape'),\n",
       "  Text(8, 0, 'Northern Cape')])"
      ]
     },
     "execution_count": 17,
     "metadata": {},
     "output_type": "execute_result"
    },
    {
     "data": {
      "image/png": "[encoded data removed]",
      "text/plain": [
       "<Figure size 640x480 with 1 Axes>"
      ]
     },
     "metadata": {},
     "output_type": "display_data"
    }
   ],
   "source": [
    "sns.barplot(x='Province', y='TotalClaims', data=df)\n",
    "plt.xticks(rotation=45)\n"
   ]
  },
  {
   "cell_type": "code",
   "execution_count": 19,
   "id": "117aa6f5",
   "metadata": {},
   "outputs": [
    {
     "data": {
      "text/plain": [
       "<Axes: title={'center': 'Top 10 Vehicle Makes by Avg Total Claims'}, xlabel='make'>"
      ]
     },
     "execution_count": 19,
     "metadata": {},
     "output_type": "execute_result"
    },
    {
     "data": {
      "image/png": "[encoded data removed]",
      "text/plain": [
       "<Figure size 640x480 with 1 Axes>"
      ]
     },
     "metadata": {},
     "output_type": "display_data"
    }
   ],
   "source": [
    "top_makes = df.groupby('make')['TotalClaims'].mean().sort_values(ascending=False).head(10)\n",
    "top_makes.plot(kind='bar', title='Top 10 Vehicle Makes by Avg Total Claims')\n"
   ]
  }
 ],
 "metadata": {
  "kernelspec": {
   "display_name": "Python (heart_disease_env)",
   "language": "python",
   "name": "heart_disease_env"
  },
  "language_info": {
   "codemirror_mode": {
    "name": "ipython",
    "version": 3
   },
   "file_extension": ".py",
   "mimetype": "text/x-python",
   "name": "python",
   "nbconvert_exporter": "python",
   "pygments_lexer": "ipython3",
   "version": "3.12.7"
  }
 },
 "nbformat": 4,
 "nbformat_minor": 5
}
